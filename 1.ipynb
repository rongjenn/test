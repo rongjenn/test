{
  "nbformat": 4,
  "nbformat_minor": 0,
  "metadata": {
    "colab": {
      "provenance": [],
      "authorship_tag": "ABX9TyNr13fdNG94mCnpq7WEtBdn",
      "include_colab_link": true
    },
    "kernelspec": {
      "name": "python3",
      "display_name": "Python 3"
    },
    "language_info": {
      "name": "python"
    },
    "widgets": {
      "application/vnd.jupyter.widget-state+json": {
        "64aac157f98f43f3bb23f4d8f68d8487": {
          "model_module": "@jupyter-widgets/controls",
          "model_name": "SelectModel",
          "model_module_version": "1.5.0",
          "state": {
            "_dom_classes": [],
            "_model_module": "@jupyter-widgets/controls",
            "_model_module_version": "1.5.0",
            "_model_name": "SelectModel",
            "_options_labels": [
              "https://www.google.com",
              "https://www.facebook.com",
              "https://www.twitter.com",
              "https://www.github.com"
            ],
            "_view_count": null,
            "_view_module": "@jupyter-widgets/controls",
            "_view_module_version": "1.5.0",
            "_view_name": "SelectView",
            "description": "",
            "description_tooltip": null,
            "disabled": false,
            "index": 3,
            "layout": "IPY_MODEL_e50b85b2848742a6b45693810b3043b3",
            "rows": 5,
            "style": "IPY_MODEL_15c116d8d9994495b3dd74f59ca30ebf"
          }
        },
        "e50b85b2848742a6b45693810b3043b3": {
          "model_module": "@jupyter-widgets/base",
          "model_name": "LayoutModel",
          "model_module_version": "1.2.0",
          "state": {
            "_model_module": "@jupyter-widgets/base",
            "_model_module_version": "1.2.0",
            "_model_name": "LayoutModel",
            "_view_count": null,
            "_view_module": "@jupyter-widgets/base",
            "_view_module_version": "1.2.0",
            "_view_name": "LayoutView",
            "align_content": null,
            "align_items": null,
            "align_self": null,
            "border": null,
            "bottom": null,
            "display": null,
            "flex": null,
            "flex_flow": null,
            "grid_area": null,
            "grid_auto_columns": null,
            "grid_auto_flow": null,
            "grid_auto_rows": null,
            "grid_column": null,
            "grid_gap": null,
            "grid_row": null,
            "grid_template_areas": null,
            "grid_template_columns": null,
            "grid_template_rows": null,
            "height": "200px",
            "justify_content": null,
            "justify_items": null,
            "left": null,
            "margin": null,
            "max_height": null,
            "max_width": null,
            "min_height": null,
            "min_width": null,
            "object_fit": null,
            "object_position": null,
            "order": null,
            "overflow": null,
            "overflow_x": null,
            "overflow_y": null,
            "padding": null,
            "right": null,
            "top": null,
            "visibility": null,
            "width": null
          }
        },
        "15c116d8d9994495b3dd74f59ca30ebf": {
          "model_module": "@jupyter-widgets/controls",
          "model_name": "DescriptionStyleModel",
          "model_module_version": "1.5.0",
          "state": {
            "_model_module": "@jupyter-widgets/controls",
            "_model_module_version": "1.5.0",
            "_model_name": "DescriptionStyleModel",
            "_view_count": null,
            "_view_module": "@jupyter-widgets/base",
            "_view_module_version": "1.2.0",
            "_view_name": "StyleView",
            "description_width": ""
          }
        }
      }
    }
  },
  "cells": [
    {
      "cell_type": "markdown",
      "metadata": {
        "id": "view-in-github",
        "colab_type": "text"
      },
      "source": [
        "<a href=\"https://colab.research.google.com/github/rongjenn/test/blob/master/1.ipynb\" target=\"_parent\"><img src=\"https://colab.research.google.com/assets/colab-badge.svg\" alt=\"Open In Colab\"/></a>"
      ]
    },
    {
      "cell_type": "markdown",
      "source": [
        "# New Section"
      ],
      "metadata": {
        "id": "SWXwDXY3xdoa"
      }
    },
    {
      "cell_type": "markdown",
      "source": [
        "# New Section"
      ],
      "metadata": {
        "id": "xT7ZCC8wxeL-"
      }
    },
    {
      "cell_type": "code",
      "execution_count": 1,
      "metadata": {
        "id": "WcRZMZheVzpx",
        "outputId": "8f5eeeba-b668-4941-bdbf-5618db560ebd",
        "colab": {
          "base_uri": "https://localhost:8080/"
        }
      },
      "outputs": [
        {
          "output_type": "stream",
          "name": "stdout",
          "text": [
            "a\n"
          ]
        }
      ],
      "source": [
        "print('a')"
      ]
    },
    {
      "cell_type": "code",
      "source": [
        "my_string = \"nospace\"\n",
        "\n",
        "# split the string into a list of words\n",
        "word_list = my_string.split()\n",
        "\n",
        "# print the individual words\n",
        "for word in word_list:\n",
        "    print(word)\n"
      ],
      "metadata": {
        "colab": {
          "base_uri": "https://localhost:8080/"
        },
        "id": "3zibjA9YW_PX",
        "outputId": "d152b040-8b92-4467-8990-645e884f8755"
      },
      "execution_count": null,
      "outputs": [
        {
          "output_type": "stream",
          "name": "stdout",
          "text": [
            "nospace\n"
          ]
        }
      ]
    },
    {
      "cell_type": "code",
      "source": [
        "my_string = \"This is a sample sentence.\"\n",
        "\n",
        "# split the string into a list of words\n",
        "word_list = my_string.split()\n",
        "\n",
        "# print the individual words\n",
        "for word in word_list:\n",
        "    print(word)\n"
      ],
      "metadata": {
        "colab": {
          "base_uri": "https://localhost:8080/"
        },
        "id": "wqr11DN7XG3O",
        "outputId": "57beb7af-8fa8-4a92-c1b1-71e1548e6865"
      },
      "execution_count": 2,
      "outputs": [
        {
          "output_type": "stream",
          "name": "stdout",
          "text": [
            "This\n",
            "is\n",
            "a\n",
            "sample\n",
            "sentence.\n"
          ]
        }
      ]
    },
    {
      "cell_type": "code",
      "source": [
        "import ipywidgets as widgets\n",
        "from IPython.display import display, Javascript\n",
        "\n",
        "# List of URLs\n",
        "urls = [\n",
        "    \"https://www.google.com\",\n",
        "    \"https://www.facebook.com\",\n",
        "    \"https://www.twitter.com\",\n",
        "    \"https://www.github.com\"\n",
        "]\n",
        "\n",
        "# Create a Select widget\n",
        "select = widgets.Select(\n",
        "    options=urls,\n",
        "    layout=widgets.Layout(height='200px')\n",
        ")\n",
        "\n",
        "# Define the onclick action function\n",
        "def open_url(change):\n",
        "    selected_url = change['new']\n",
        "    display(Javascript(f'window.open(\"{selected_url}\");'))\n",
        "\n",
        "# Attach the onclick action to the Select widget\n",
        "select.observe(open_url, 'value')\n",
        "\n",
        "# Display the Select widget\n",
        "display(select)\n"
      ],
      "metadata": {
        "colab": {
          "base_uri": "https://localhost:8080/",
          "height": 221,
          "referenced_widgets": [
            "64aac157f98f43f3bb23f4d8f68d8487",
            "e50b85b2848742a6b45693810b3043b3",
            "15c116d8d9994495b3dd74f59ca30ebf"
          ]
        },
        "id": "zM8I5mvM8BTp",
        "outputId": "0de9bb3d-f295-497a-d0c7-692ea886fb31"
      },
      "execution_count": 6,
      "outputs": [
        {
          "output_type": "display_data",
          "data": {
            "text/plain": [
              "Select(layout=Layout(height='200px'), options=('https://www.google.com', 'https://www.facebook.com', 'https://…"
            ],
            "application/vnd.jupyter.widget-view+json": {
              "version_major": 2,
              "version_minor": 0,
              "model_id": "64aac157f98f43f3bb23f4d8f68d8487"
            }
          },
          "metadata": {}
        },
        {
          "output_type": "display_data",
          "data": {
            "text/plain": [
              "<IPython.core.display.Javascript object>"
            ],
            "application/javascript": [
              "window.open(\"https://www.facebook.com\");"
            ]
          },
          "metadata": {}
        },
        {
          "output_type": "display_data",
          "data": {
            "text/plain": [
              "<IPython.core.display.Javascript object>"
            ],
            "application/javascript": [
              "window.open(\"https://www.google.com\");"
            ]
          },
          "metadata": {}
        },
        {
          "output_type": "display_data",
          "data": {
            "text/plain": [
              "<IPython.core.display.Javascript object>"
            ],
            "application/javascript": [
              "window.open(\"https://www.twitter.com\");"
            ]
          },
          "metadata": {}
        },
        {
          "output_type": "display_data",
          "data": {
            "text/plain": [
              "<IPython.core.display.Javascript object>"
            ],
            "application/javascript": [
              "window.open(\"https://www.github.com\");"
            ]
          },
          "metadata": {}
        },
        {
          "output_type": "display_data",
          "data": {
            "text/plain": [
              "<IPython.core.display.Javascript object>"
            ],
            "application/javascript": [
              "window.open(\"https://www.twitter.com\");"
            ]
          },
          "metadata": {}
        },
        {
          "output_type": "display_data",
          "data": {
            "text/plain": [
              "<IPython.core.display.Javascript object>"
            ],
            "application/javascript": [
              "window.open(\"https://www.github.com\");"
            ]
          },
          "metadata": {}
        }
      ]
    },
    {
      "cell_type": "code",
      "source": [
        "from google.colab import drive\n",
        "drive.mount('/content/drive')"
      ],
      "metadata": {
        "id": "EfbYkmTz9v2Y"
      },
      "execution_count": null,
      "outputs": []
    },
    {
      "cell_type": "code",
      "source": [
        "import json\n",
        "\n",
        "# Example JSON string\n",
        "json_str = '{\"RuleArn\": \"arn:aws:elasticloadbalancing:us-west-2:498040579653:listener-rule/app/k8s-xtexternal-cfa7e84da3/8211589dbe3abc20/09df67ef7558928d/af65d7c40055bf62\", \"Priority\": \"99\", \"Conditions\": [{\"Field\": \"path-pattern\", \"Values\": [\"/rideshare/*\"], \"PathPatternConfig\": {\"Values\": [\"/rideshare/*\"]}}, {\"Field\": \"host-header\", \"Values\": [\"rideshareua9.xtimeappsnp.xtime.com\", \"*ua9.xtime.com\"], \"HostHeaderConfig\": {\"Values\": [\"rideshareua9.xtimeappsnp.xtime.com\", \"*ua9.xtime.com\"]}}], \"Actions\": [{\"Type\": \"forward\", \"TargetGroupArn\": \"arn:aws:elasticloadbalancing:us-west-2:498040579653:targetgroup/k8s-ua9-rideshar-e832f8c4dc/a4c81f8fc8a6d913\", \"Order\": 1, \"ForwardConfig\": {\"TargetGroups\": [{\"TargetGroupArn\": \"arn:aws:elasticloadbalancing:us-west-2:498040579653:targetgroup/k8s-ua9-rideshar-e832f8c4dc/a4c81f8fc8a6d913\", \"Weight\": 20}], \"TargetGroupStickinessConfig\": {\"Enabled\": false}}}], \"IsDefault\": false}'\n",
        "\n",
        "# Load the JSON string\n",
        "data = json.loads(json_str)\n",
        "\n",
        "# Access the values\n",
        "print(data[\"RuleArn\"])\n",
        "print(int(data[\"Priority\"]))\n",
        "print(data[\"Conditions\"])\n",
        "print(data[\"Actions\"])\n",
        "print(data[\"IsDefault\"])\n"
      ],
      "metadata": {
        "colab": {
          "base_uri": "https://localhost:8080/"
        },
        "id": "c6Vhhr91XNOi",
        "outputId": "e85de29c-bf69-4d5a-ba92-2506547ee781"
      },
      "execution_count": null,
      "outputs": [
        {
          "output_type": "stream",
          "name": "stdout",
          "text": [
            "arn:aws:elasticloadbalancing:us-west-2:498040579653:listener-rule/app/k8s-xtexternal-cfa7e84da3/8211589dbe3abc20/09df67ef7558928d/af65d7c40055bf62\n",
            "99\n",
            "[{'Field': 'path-pattern', 'Values': ['/rideshare/*'], 'PathPatternConfig': {'Values': ['/rideshare/*']}}, {'Field': 'host-header', 'Values': ['rideshareua9.xtimeappsnp.xtime.com', '*ua9.xtime.com'], 'HostHeaderConfig': {'Values': ['rideshareua9.xtimeappsnp.xtime.com', '*ua9.xtime.com']}}]\n",
            "[{'Type': 'forward', 'TargetGroupArn': 'arn:aws:elasticloadbalancing:us-west-2:498040579653:targetgroup/k8s-ua9-rideshar-e832f8c4dc/a4c81f8fc8a6d913', 'Order': 1, 'ForwardConfig': {'TargetGroups': [{'TargetGroupArn': 'arn:aws:elasticloadbalancing:us-west-2:498040579653:targetgroup/k8s-ua9-rideshar-e832f8c4dc/a4c81f8fc8a6d913', 'Weight': 20}], 'TargetGroupStickinessConfig': {'Enabled': False}}}]\n",
            "False\n"
          ]
        }
      ]
    }
  ]
}